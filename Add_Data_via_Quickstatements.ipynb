{
 "cells": [
  {
   "cell_type": "markdown",
   "id": "8c420f8b",
   "metadata": {},
   "source": [
    "## Quickstatements zum Ändern bestehender Daten\n",
    "\n",
    "Mithilfe dieses Skripts können Daten in Wikidata zu bestehenden Datenobjeken ergänzt werden. In diesem Beispiel werden Daten aus dem iDAI.gazetteer ergänzt.\n",
    "\n",
    "mit https://quickstatements.toolforge.org\n",
    "\n",
    "Das Skript kann nach belieben angepasst werden.\n",
    "\n",
    "Version 1.0, 25.07.2025"
   ]
  },
  {
   "cell_type": "code",
   "execution_count": null,
   "id": "db79e4af",
   "metadata": {},
   "outputs": [],
   "source": [
    "import pandas as pd\n",
    "import requests"
   ]
  },
  {
   "cell_type": "code",
   "execution_count": null,
   "id": "ab6e897d",
   "metadata": {},
   "outputs": [],
   "source": [
    "df_data = pd.read_excel('data.xlsx', sheet_name='wikidata')\n",
    "\n",
    "print(df_data.head())"
   ]
  },
  {
   "cell_type": "code",
   "execution_count": null,
   "id": "c075319e",
   "metadata": {},
   "outputs": [],
   "source": [
    "def get_gaz_id(uri):\n",
    "    parts = uri.split(\"/\")\n",
    "    gazid = parts[-1]\n",
    "    return gazid"
   ]
  },
  {
   "cell_type": "code",
   "execution_count": null,
   "id": "e74df9a1",
   "metadata": {},
   "outputs": [],
   "source": [
    "names_list = []\n",
    "types = []\n",
    "wikidata_ids = []\n",
    "\n",
    "for place in df_data['GazetteerID']:\n",
    "    gaz_id = get_gaz_id(place)\n",
    "    print(gaz_id)\n",
    "    # Assuming the gazetteer URL follows a specific pattern\n",
    "    gaz_url = f\"https://gazetteer.dainst.org/doc/{gaz_id}.json\"\n",
    "    response = requests.get(gaz_url)\n",
    "    if response.status_code == 200:\n",
    "        data = response.json()\n",
    "        names = data.get('names')\n",
    "        names = names[0]\n",
    "        print(names)\n",
    "        if names['language'] == 'eng':\n",
    "            name = names['title']\n",
    "            print(name)\n",
    "            names_list.append(name)\n",
    "            if 'Ceramic' in name:\n",
    "                types.append('pottery style')\n",
    "            else:\n",
    "                types.append('CHECK MANUALLY!')\n",
    "        else:\n",
    "            names_list.append('TRANSLATE MANUALLY!')\n",
    "            types.append('CHECK MANUALLY!')\n",
    "\n",
    "print(names)\n",
    "print(types)"
   ]
  },
  {
   "cell_type": "code",
   "execution_count": null,
   "id": "ea7d2247",
   "metadata": {},
   "outputs": [],
   "source": [
    "wikidata_ids = df_data['Wikidata_URL'].tolist()\n",
    "\n",
    "print(len(names_list))\n",
    "print(len(types))\n",
    "print(len(wikidata_ids))\n",
    "\n",
    "#merge the lists into a DataFrame\n",
    "df = pd.DataFrame({\n",
    "    'name': names_list,\n",
    "    'type': types,\n",
    "    'wikidata_id': wikidata_ids\n",
    "})\n",
    "\n",
    "#Create Quickstatements\n",
    "\n",
    "quickstatements = []\n",
    "\n",
    "for index, row in df.iterrows():\n",
    "    wiki_id = row['wikidata_id']\n",
    "    wiki_id = wiki_id.split(\"/\")[-1]\n",
    "    quickstatements.append(f'{wiki_id}|Len|\"{row[\"name\"]}\"')\n",
    "    quickstatements.append(f'{wiki_id}|Den|\"{row[\"type\"]}\"')\n",
    "    quickstatements.append(\"\")\n",
    "    \n",
    "print(quickstatements)\n",
    "\n",
    "#save as text file\n",
    "with open('quickstatements.txt', 'w') as f:\n",
    "    for statement in quickstatements:\n",
    "        f.write(statement + '\\n')"
   ]
  },
  {
   "cell_type": "markdown",
   "id": "639d28ca",
   "metadata": {},
   "source": [
    "Entwickelt von Lukas Lammers im Projekt FAIR.rdm, teil des DFG-geförderten SPP 2143 \"Entangled Africa\"."
   ]
  }
 ],
 "metadata": {
  "kernelspec": {
   "display_name": "Python 3",
   "language": "python",
   "name": "python3"
  },
  "language_info": {
   "codemirror_mode": {
    "name": "ipython",
    "version": 3
   },
   "file_extension": ".py",
   "mimetype": "text/x-python",
   "name": "python",
   "nbconvert_exporter": "python",
   "pygments_lexer": "ipython3",
   "version": "3.12.10"
  }
 },
 "nbformat": 4,
 "nbformat_minor": 5
}
